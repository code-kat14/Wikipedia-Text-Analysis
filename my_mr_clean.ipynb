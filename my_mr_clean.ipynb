{
 "cells": [
  {
   "cell_type": "code",
   "execution_count": 204,
   "metadata": {},
   "outputs": [],
   "source": [
    "import requests\n",
    "from bs4 import BeautifulSoup\n"
   ]
  },
  {
   "cell_type": "code",
   "execution_count": null,
   "metadata": {},
   "outputs": [],
   "source": [
    "\n",
    "wiki_api = \"https://en.wikipedia.org/w/api.php\"\n",
    "def get_content(article_name):\n",
    "    parameters = {\"action\": \"query\", \n",
    "                  \"rvslots\": \"main\",\n",
    "                  \"titles\": article_name,\n",
    "                  \"format\": \"json\",\n",
    "                  \"prop\": \"extracts\",\n",
    "                  \"rvprop\": \"content\",\n",
    "                  \"explaintext\": True\n",
    "                  }\n",
    "    response = requests.get(wiki_api, params=parameters).json()\n",
    "    return response\n",
    "\n",
    "    # parameters = {\"action\": \"parse\", \n",
    "    #               \"page\": article_name,\n",
    "    #               \"format\": \"json\",\n",
    "    #               \"prop\": \"text\",\n",
    "    #               }"
   ]
  },
  {
   "cell_type": "code",
   "execution_count": null,
   "metadata": {},
   "outputs": [],
   "source": [
    "data = get_content(\"Ozone_layer\")\n",
    "print(data)"
   ]
  },
  {
   "cell_type": "code",
   "execution_count": null,
   "metadata": {},
   "outputs": [],
   "source": [
    "def merge_contents(data):\n",
    "    page = next(iter(data['query']['pages'].values()))\n",
    "    extract = page['extract']\n",
    "    print(type(extract))\n",
    "    word_list = extract.split()\n",
    "    print(type(word_list))\n",
    "    return word_list"
   ]
  },
  {
   "cell_type": "code",
   "execution_count": null,
   "metadata": {},
   "outputs": [],
   "source": [
    "merge_content = merge_contents(data)\n",
    "print(type(merge_content))\n",
    "print(merge_content)"
   ]
  },
  {
   "cell_type": "markdown",
   "metadata": {},
   "source": [
    "TODO : \n",
    "1. get rid of math html text in data output \n",
    "2. extract only plain text from list "
   ]
  }
 ],
 "metadata": {
  "kernelspec": {
   "display_name": "base",
   "language": "python",
   "name": "python3"
  },
  "language_info": {
   "codemirror_mode": {
    "name": "ipython",
    "version": 3
   },
   "file_extension": ".py",
   "mimetype": "text/x-python",
   "name": "python",
   "nbconvert_exporter": "python",
   "pygments_lexer": "ipython3",
   "version": "3.12.7"
  }
 },
 "nbformat": 4,
 "nbformat_minor": 2
}
